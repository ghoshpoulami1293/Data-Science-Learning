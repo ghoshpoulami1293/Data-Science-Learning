{
 "cells": [
  {
   "cell_type": "code",
   "execution_count": 1,
   "id": "3a5f1ccd",
   "metadata": {},
   "outputs": [],
   "source": [
    "import pandas as pd\n",
    "\n",
    "df = pd.read_csv(\"AB_NYC_2019.csv\")"
   ]
  },
  {
   "cell_type": "code",
   "execution_count": 2,
   "id": "9fb3a678",
   "metadata": {},
   "outputs": [
    {
     "name": "stdout",
     "output_type": "stream",
     "text": [
      "<class 'pandas.core.frame.DataFrame'>\n",
      "RangeIndex: 48895 entries, 0 to 48894\n",
      "Data columns (total 16 columns):\n",
      " #   Column                          Non-Null Count  Dtype  \n",
      "---  ------                          --------------  -----  \n",
      " 0   id                              48895 non-null  int64  \n",
      " 1   name                            48879 non-null  object \n",
      " 2   host_id                         48895 non-null  int64  \n",
      " 3   host_name                       48874 non-null  object \n",
      " 4   neighbourhood_group             48895 non-null  object \n",
      " 5   neighbourhood                   48895 non-null  object \n",
      " 6   latitude                        48895 non-null  float64\n",
      " 7   longitude                       48895 non-null  float64\n",
      " 8   room_type                       48895 non-null  object \n",
      " 9   price                           48895 non-null  int64  \n",
      " 10  minimum_nights                  48895 non-null  int64  \n",
      " 11  number_of_reviews               48895 non-null  int64  \n",
      " 12  last_review                     38843 non-null  object \n",
      " 13  reviews_per_month               38843 non-null  float64\n",
      " 14  calculated_host_listings_count  48895 non-null  int64  \n",
      " 15  availability_365                48895 non-null  int64  \n",
      "dtypes: float64(3), int64(7), object(6)\n",
      "memory usage: 6.0+ MB\n"
     ]
    }
   ],
   "source": [
    "#to get the datatype of all the columns\n",
    "df.info()"
   ]
  },
  {
   "cell_type": "code",
   "execution_count": 4,
   "id": "52df6bdb",
   "metadata": {},
   "outputs": [],
   "source": [
    "#id and host id needs to be converted to string - they should not be integers\n",
    "df[\"id\"] = df[\"id\"].astype(\"str\")"
   ]
  },
  {
   "cell_type": "code",
   "execution_count": 5,
   "id": "533fdd3c",
   "metadata": {},
   "outputs": [
    {
     "data": {
      "text/plain": [
       "0            2539\n",
       "1            2595\n",
       "2            3647\n",
       "3            3831\n",
       "4            5022\n",
       "           ...   \n",
       "48890    36484665\n",
       "48891    36485057\n",
       "48892    36485431\n",
       "48893    36485609\n",
       "48894    36487245\n",
       "Name: id, Length: 48895, dtype: object"
      ]
     },
     "execution_count": 5,
     "metadata": {},
     "output_type": "execute_result"
    }
   ],
   "source": [
    "df[\"id\"]"
   ]
  },
  {
   "cell_type": "code",
   "execution_count": 7,
   "id": "cc89b008",
   "metadata": {},
   "outputs": [
    {
     "data": {
      "text/plain": [
       "dtype('O')"
      ]
     },
     "execution_count": 7,
     "metadata": {},
     "output_type": "execute_result"
    }
   ],
   "source": [
    "df[\"id\"].dtype"
   ]
  },
  {
   "cell_type": "code",
   "execution_count": 9,
   "id": "60dcbdd9",
   "metadata": {},
   "outputs": [],
   "source": [
    "df[\"host_id\"] = df[\"host_id\"].astype(\"str\")"
   ]
  },
  {
   "cell_type": "code",
   "execution_count": 10,
   "id": "e85eddcd",
   "metadata": {},
   "outputs": [
    {
     "data": {
      "text/plain": [
       "dtype('O')"
      ]
     },
     "execution_count": 10,
     "metadata": {},
     "output_type": "execute_result"
    }
   ],
   "source": [
    "df[\"id\"].dtype"
   ]
  },
  {
   "cell_type": "code",
   "execution_count": 11,
   "id": "f9744bce",
   "metadata": {},
   "outputs": [
    {
     "name": "stdout",
     "output_type": "stream",
     "text": [
      "<class 'pandas.core.frame.DataFrame'>\n",
      "RangeIndex: 48895 entries, 0 to 48894\n",
      "Data columns (total 16 columns):\n",
      " #   Column                          Non-Null Count  Dtype  \n",
      "---  ------                          --------------  -----  \n",
      " 0   id                              48895 non-null  object \n",
      " 1   name                            48879 non-null  object \n",
      " 2   host_id                         48895 non-null  object \n",
      " 3   host_name                       48874 non-null  object \n",
      " 4   neighbourhood_group             48895 non-null  object \n",
      " 5   neighbourhood                   48895 non-null  object \n",
      " 6   latitude                        48895 non-null  float64\n",
      " 7   longitude                       48895 non-null  float64\n",
      " 8   room_type                       48895 non-null  object \n",
      " 9   price                           48895 non-null  int64  \n",
      " 10  minimum_nights                  48895 non-null  int64  \n",
      " 11  number_of_reviews               48895 non-null  int64  \n",
      " 12  last_review                     38843 non-null  object \n",
      " 13  reviews_per_month               38843 non-null  float64\n",
      " 14  calculated_host_listings_count  48895 non-null  int64  \n",
      " 15  availability_365                48895 non-null  int64  \n",
      "dtypes: float64(3), int64(5), object(8)\n",
      "memory usage: 6.0+ MB\n"
     ]
    }
   ],
   "source": [
    "df.info()"
   ]
  },
  {
   "cell_type": "code",
   "execution_count": 14,
   "id": "ed4df2ba",
   "metadata": {},
   "outputs": [],
   "source": [
    "df[\"host_id\"] = df[\"host_id\"].astype(\"int\")"
   ]
  },
  {
   "cell_type": "code",
   "execution_count": 16,
   "id": "72a9f6af",
   "metadata": {},
   "outputs": [
    {
     "data": {
      "text/plain": [
       "dtype('int32')"
      ]
     },
     "execution_count": 16,
     "metadata": {},
     "output_type": "execute_result"
    }
   ],
   "source": [
    "df[\"host_id\"].dtype"
   ]
  },
  {
   "cell_type": "code",
   "execution_count": 18,
   "id": "cabc53c9",
   "metadata": {},
   "outputs": [],
   "source": [
    "df[\"last_review\"] =pd.to_datetime(df[\"last_review\"])"
   ]
  },
  {
   "cell_type": "code",
   "execution_count": 19,
   "id": "868eb488",
   "metadata": {},
   "outputs": [
    {
     "data": {
      "text/plain": [
       "0       2018-10-19\n",
       "1       2019-05-21\n",
       "2              NaT\n",
       "3       2019-07-05\n",
       "4       2018-11-19\n",
       "           ...    \n",
       "48890          NaT\n",
       "48891          NaT\n",
       "48892          NaT\n",
       "48893          NaT\n",
       "48894          NaT\n",
       "Name: last_review, Length: 48895, dtype: datetime64[ns]"
      ]
     },
     "execution_count": 19,
     "metadata": {},
     "output_type": "execute_result"
    }
   ],
   "source": [
    "df[\"last_review\"] "
   ]
  },
  {
   "cell_type": "code",
   "execution_count": 21,
   "id": "066b6304",
   "metadata": {},
   "outputs": [
    {
     "name": "stdout",
     "output_type": "stream",
     "text": [
      "<class 'pandas.core.frame.DataFrame'>\n",
      "RangeIndex: 48895 entries, 0 to 48894\n",
      "Data columns (total 16 columns):\n",
      " #   Column                          Non-Null Count  Dtype         \n",
      "---  ------                          --------------  -----         \n",
      " 0   id                              48895 non-null  object        \n",
      " 1   name                            48879 non-null  object        \n",
      " 2   host_id                         48895 non-null  int32         \n",
      " 3   host_name                       48874 non-null  object        \n",
      " 4   neighbourhood_group             48895 non-null  object        \n",
      " 5   neighbourhood                   48895 non-null  object        \n",
      " 6   latitude                        48895 non-null  float64       \n",
      " 7   longitude                       48895 non-null  float64       \n",
      " 8   room_type                       48895 non-null  object        \n",
      " 9   price                           48895 non-null  int64         \n",
      " 10  minimum_nights                  48895 non-null  int64         \n",
      " 11  number_of_reviews               48895 non-null  int64         \n",
      " 12  last_review                     38843 non-null  datetime64[ns]\n",
      " 13  reviews_per_month               38843 non-null  float64       \n",
      " 14  calculated_host_listings_count  48895 non-null  int64         \n",
      " 15  availability_365                48895 non-null  int64         \n",
      "dtypes: datetime64[ns](1), float64(3), int32(1), int64(5), object(6)\n",
      "memory usage: 5.8+ MB\n"
     ]
    }
   ],
   "source": [
    "df.info()"
   ]
  },
  {
   "cell_type": "code",
   "execution_count": null,
   "id": "0f40840f",
   "metadata": {},
   "outputs": [],
   "source": []
  }
 ],
 "metadata": {
  "kernelspec": {
   "display_name": "Python 3 (ipykernel)",
   "language": "python",
   "name": "python3"
  },
  "language_info": {
   "codemirror_mode": {
    "name": "ipython",
    "version": 3
   },
   "file_extension": ".py",
   "mimetype": "text/x-python",
   "name": "python",
   "nbconvert_exporter": "python",
   "pygments_lexer": "ipython3",
   "version": "3.10.9"
  }
 },
 "nbformat": 4,
 "nbformat_minor": 5
}
