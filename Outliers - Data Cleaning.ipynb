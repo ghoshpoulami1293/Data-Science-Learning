{
 "cells": [
  {
   "cell_type": "code",
   "execution_count": null,
   "id": "c04d8a19",
   "metadata": {},
   "outputs": [],
   "source": [
    "import pandas as pd\n",
    "import numpy as np\n",
    "import seaborn as sns\n",
    "\n",
    "from matlplotlib import pylot as plt \n",
    "\n",
    "#cannot run code, the csv file if not available\n",
    "data = pd.read_csv(\"scholarship.csv\")\n",
    "df.data.copy()"
   ]
  },
  {
   "cell_type": "code",
   "execution_count": null,
   "id": "c4f4b82b",
   "metadata": {},
   "outputs": [],
   "source": [
    "df.head()\n",
    "df.shape()\n",
    "\n",
    "#the figure has 1 row, 2 columns, and this plot is the first plot.\n",
    "plt.subplot(1,2,1)\n",
    "sns.distplot(df[\"semester_percentage\"])\n",
    "\n",
    "#the figure has 1 row, 2 columns, and this plot is the second plot.\n",
    "plt.subplot(1,2,2)\n",
    "sns.distplot(df[\"scholarship_exam_marks\"])\n",
    "\n",
    "#to plot the graph, show is used\n",
    "plt.show()"
   ]
  },
  {
   "cell_type": "code",
   "execution_count": null,
   "id": "6eca4a90",
   "metadata": {},
   "outputs": [],
   "source": [
    "mean = df[\"semester_percentage\"].mean()\n",
    "std = df[\"semester_percentage\"].std()\n",
    "\n",
    "print(mean, ',',std)"
   ]
  },
  {
   "cell_type": "code",
   "execution_count": null,
   "id": "b5b78318",
   "metadata": {},
   "outputs": [],
   "source": [
    "highest_allowed_value = mean + 3*std\n",
    "lowest_allowed_value = mean - 3*std\n",
    "\n",
    "print(highest_allowed_value, ',',lowest_allowed_value)"
   ]
  },
  {
   "cell_type": "code",
   "execution_count": null,
   "id": "e9dd24d4",
   "metadata": {},
   "outputs": [],
   "source": [
    "#outliers in the dataset\n",
    "df[(df[\"semester_percentage\"] < lowest_allowed_value) | (df[\"semester_percentage\"] > highest_allowed_value)]"
   ]
  },
  {
   "cell_type": "markdown",
   "id": "3a2e7fb2",
   "metadata": {},
   "source": [
    "#### Trimming"
   ]
  },
  {
   "cell_type": "code",
   "execution_count": null,
   "id": "47662b9e",
   "metadata": {},
   "outputs": [],
   "source": [
    "#dataset without outliers\n",
    "df[(df[\"semester_percentage\"] > lowest_allowed_value) & (df[\"semester_percentage\"] < highest_allowed_value)]"
   ]
  },
  {
   "cell_type": "code",
   "execution_count": null,
   "id": "1f93f699",
   "metadata": {},
   "outputs": [],
   "source": [
    "Using Z Score"
   ]
  },
  {
   "cell_type": "code",
   "execution_count": null,
   "id": "9d2f30a3",
   "metadata": {},
   "outputs": [],
   "source": [
    "#make a new column \n",
    "df[\"z_score\"] = (df[\"semester_percentage\"] - df[\"semester_percentage\"].mean()) / df[\"semester_percentage\"].std()\n",
    "df.head()"
   ]
  },
  {
   "cell_type": "code",
   "execution_count": null,
   "id": "e6cf7a57",
   "metadata": {},
   "outputs": [],
   "source": [
    "#outliers in the dataset\n",
    "df[(df[\"z_score\"]<-3) | (df[\"z_score\"]>3)]"
   ]
  },
  {
   "cell_type": "code",
   "execution_count": null,
   "id": "6be9a1cb",
   "metadata": {},
   "outputs": [],
   "source": [
    "#dataset without outliers\n",
    "df[(df[\"z_score\"]>-3) & (df[\"z_score\"]<3)]"
   ]
  },
  {
   "cell_type": "markdown",
   "id": "9a976d84",
   "metadata": {},
   "source": [
    "#### Make a capping and not removing the outliers"
   ]
  },
  {
   "cell_type": "code",
   "execution_count": null,
   "id": "9b53881f",
   "metadata": {},
   "outputs": [],
   "source": [
    "upper_limit = mean + 3*std\n",
    "lower_limit = mean - 3*std"
   ]
  },
  {
   "cell_type": "code",
   "execution_count": null,
   "id": "47daa86e",
   "metadata": {},
   "outputs": [],
   "source": [
    "df[\"semester_percentage\"] = np.where(df[\"semester_percentage\"]>upper_limit, upper_limit,\n",
    "                                     df[\"semester_percentage\"]<lower_limit,lower_limit,df[\"semester_percentage\"])"
   ]
  },
  {
   "cell_type": "code",
   "execution_count": null,
   "id": "32ff8ec5",
   "metadata": {},
   "outputs": [],
   "source": [
    "df"
   ]
  }
 ],
 "metadata": {
  "kernelspec": {
   "display_name": "Python 3 (ipykernel)",
   "language": "python",
   "name": "python3"
  },
  "language_info": {
   "codemirror_mode": {
    "name": "ipython",
    "version": 3
   },
   "file_extension": ".py",
   "mimetype": "text/x-python",
   "name": "python",
   "nbconvert_exporter": "python",
   "pygments_lexer": "ipython3",
   "version": "3.10.9"
  }
 },
 "nbformat": 4,
 "nbformat_minor": 5
}
