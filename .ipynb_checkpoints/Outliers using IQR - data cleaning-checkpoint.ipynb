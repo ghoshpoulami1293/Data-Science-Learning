{
 "cells": [
  {
   "cell_type": "code",
   "execution_count": null,
   "id": "f689377c",
   "metadata": {},
   "outputs": [],
   "source": [
    "import numpy as np\n",
    "import pandas as pd\n",
    "import seaborn as sns\n",
    "from matplotlib import pyplot as plt\n",
    "\n",
    "##cannot run code, the csv file if not available\n",
    "data = pd.read_csv(\"scholarship.csv\")\n",
    "data.head()"
   ]
  },
  {
   "cell_type": "code",
   "execution_count": null,
   "id": "92e8bc12",
   "metadata": {},
   "outputs": [],
   "source": [
    "#to find out whether it is a skewed distribution\n",
    "sns.distplot(data[\"scholarship_exam_marks\"])\n",
    "\n",
    "#to visualize outliers\n",
    "sns.boxplot(data[\"scholarship_exam_marks\"])"
   ]
  },
  {
   "cell_type": "code",
   "execution_count": null,
   "id": "b9195c25",
   "metadata": {},
   "outputs": [],
   "source": [
    "#quartile calculations\n",
    "Q1 = data[\"scholarship_exam_marks\"].quantile(0.25)\n",
    "\n",
    "Q2 = data[\"scholarship_exam_marks\"].quantile(0.50)\n",
    "\n",
    "Q3 = data[\"scholarship_exam_marks\"].quantile(0.75)\n",
    "\n",
    "IQR = Q3 -Q1\n",
    "\n",
    "min_value = Q1 - (1.5*IQR)\n",
    "max_value = Q3 + (1.5*IQR)\n",
    "\n",
    "#we can also get the quartiles using describe function\n",
    "df.describe()"
   ]
  },
  {
   "cell_type": "code",
   "execution_count": null,
   "id": "c49c4bfa",
   "metadata": {},
   "outputs": [],
   "source": [
    "min\n",
    "max"
   ]
  },
  {
   "cell_type": "code",
   "execution_count": null,
   "id": "24b68bfb",
   "metadata": {},
   "outputs": [],
   "source": [
    "#display outliers\n",
    "data[(data[\"scholarship_exam_marks\"] > max) | (data[\"scholarship_exam_marks\"]< min)]"
   ]
  },
  {
   "cell_type": "code",
   "execution_count": null,
   "id": "81393e36",
   "metadata": {},
   "outputs": [],
   "source": [
    "#trimming outliers\n",
    "new_data = data[(data[\"scholarship_exam_marks\"] < max) & (data[\"scholarship_exam_marks\"]> min)]\n",
    "\n",
    "##Comparing boxplots of trimmed and initial datasets\n",
    "plt.figure(figsize = (16,8))\n",
    "\n",
    "plt.subplot(2,2,1)\n",
    "sns.distplot(data[\"scholarship_exam_marks\"])\n",
    "\n",
    "plt.subplot(2,2,2)\n",
    "sns.boxplot(data[\"scholarship_exam_marks\"])\n",
    "\n",
    "plt.subplot(2,2,3)\n",
    "sns.distplot(new_data[\"scholarship_exam_marks\"])\n",
    "\n",
    "plt.subplot(2,2,4)\n",
    "sns.boxplot(new_data[\"scholarship_exam_marks\"])"
   ]
  },
  {
   "cell_type": "code",
   "execution_count": null,
   "id": "8ff6eaa9",
   "metadata": {},
   "outputs": [],
   "source": [
    "#cap outliers\n",
    "data[\"scholarship_exam_marks\"] = np.where(data[\"scholarship_exam_marks\"]>max , max ,\n",
    "                                          data[\"scholarship_exam_marks\"]<min , min, data[\"scholarship_exam_marks\"])"
   ]
  },
  {
   "cell_type": "code",
   "execution_count": null,
   "id": "c6dfc645",
   "metadata": {},
   "outputs": [],
   "source": [
    "data.shape"
   ]
  },
  {
   "cell_type": "code",
   "execution_count": null,
   "id": "68bba92d",
   "metadata": {},
   "outputs": [],
   "source": [
    "#boxplot to check any existing outliers after capping - none present\n",
    "sns.boxplot(data[\"scholarship_exam_marks\"])"
   ]
  }
 ],
 "metadata": {
  "kernelspec": {
   "display_name": "Python 3 (ipykernel)",
   "language": "python",
   "name": "python3"
  },
  "language_info": {
   "codemirror_mode": {
    "name": "ipython",
    "version": 3
   },
   "file_extension": ".py",
   "mimetype": "text/x-python",
   "name": "python",
   "nbconvert_exporter": "python",
   "pygments_lexer": "ipython3",
   "version": "3.10.9"
  }
 },
 "nbformat": 4,
 "nbformat_minor": 5
}
