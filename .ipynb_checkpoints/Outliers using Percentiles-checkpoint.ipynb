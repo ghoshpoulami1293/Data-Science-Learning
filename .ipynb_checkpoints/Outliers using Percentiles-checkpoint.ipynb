{
 "cells": [
  {
   "cell_type": "code",
   "execution_count": null,
   "id": "f90d6188",
   "metadata": {},
   "outputs": [],
   "source": [
    "import numpy as np\n",
    "import pandas as pd\n",
    "import seaborn as sns\n",
    "\n",
    "##cannot run code, the csv file if not available\n",
    "df = pd.read_csv(\"weight-height.csv\")\n",
    "df.head()"
   ]
  },
  {
   "cell_type": "code",
   "execution_count": null,
   "id": "37bbba65",
   "metadata": {},
   "outputs": [],
   "source": [
    "sns.distplot(df[\"Height\"]) #the resulting plot was similar to a normal distribution but not exactly a normal distribution"
   ]
  },
  {
   "cell_type": "markdown",
   "id": "0307d16d",
   "metadata": {},
   "source": [
    "##### We are considering 1%as the percentile for outliers"
   ]
  },
  {
   "cell_type": "code",
   "execution_count": null,
   "id": "5d7f2af0",
   "metadata": {},
   "outputs": [],
   "source": [
    "#to check for outliers\n",
    "df.describe() #checking the diff between max and 75% percentile can give a clue\n",
    "#or\n",
    "sns.boxplot(df[\"Height\"]) #outliers spotted"
   ]
  },
  {
   "cell_type": "markdown",
   "id": "82062b08",
   "metadata": {},
   "source": [
    "## Percentile Calculation"
   ]
  },
  {
   "cell_type": "code",
   "execution_count": null,
   "id": "c93c9c0a",
   "metadata": {},
   "outputs": [],
   "source": [
    "min_limit = df[\"Height\"].quantile(0.01)\n",
    "max_limit = df[\"Height\"].quantile(0.99)\n",
    "\n",
    "min_limit\n",
    "max_limit"
   ]
  },
  {
   "cell_type": "code",
   "execution_count": null,
   "id": "be27febc",
   "metadata": {},
   "outputs": [],
   "source": [
    "#display outliers\n",
    "df[(df[\"Height\"]>max) | (df[\"Height\"]<min)]"
   ]
  },
  {
   "cell_type": "code",
   "execution_count": null,
   "id": "ea3122c8",
   "metadata": {},
   "outputs": [],
   "source": [
    "df.shape()"
   ]
  },
  {
   "cell_type": "code",
   "execution_count": null,
   "id": "083e9831",
   "metadata": {},
   "outputs": [],
   "source": [
    "#number of outliers was significant, so trimming a significant part of the dataset is not recommended.\n",
    "#Capping would be a better approach"
   ]
  },
  {
   "cell_type": "code",
   "execution_count": null,
   "id": "a6da207a",
   "metadata": {},
   "outputs": [],
   "source": [
    "#Trimming \n",
    "df_new = df[(df[\"Height\"]<max_limit) & (df[\"Height\"]>min_limit)]\n",
    "\n",
    "#Constructing boxplot to check for outliers\n",
    "sns.boxplot(df_new[\"Height\"]) #no outliers present anymore"
   ]
  },
  {
   "cell_type": "code",
   "execution_count": null,
   "id": "4cb0c3f3",
   "metadata": {},
   "outputs": [],
   "source": [
    "#Capping - no data loss, change values in the existing col\n",
    "df[\"Height\"] = np.where(df[\"Height\"]>max_limit ,max_limit,\n",
    "                        df[\"Height\"] < min_limit , min_limit , df[\"Height\"])"
   ]
  },
  {
   "cell_type": "code",
   "execution_count": null,
   "id": "adea64fe",
   "metadata": {},
   "outputs": [],
   "source": [
    "#Constructing boxplot to check for outliers\n",
    "sns.boxplot(df[\"Height\"])#no outliers present anymore "
   ]
  }
 ],
 "metadata": {
  "kernelspec": {
   "display_name": "Python 3 (ipykernel)",
   "language": "python",
   "name": "python3"
  },
  "language_info": {
   "codemirror_mode": {
    "name": "ipython",
    "version": 3
   },
   "file_extension": ".py",
   "mimetype": "text/x-python",
   "name": "python",
   "nbconvert_exporter": "python",
   "pygments_lexer": "ipython3",
   "version": "3.10.9"
  }
 },
 "nbformat": 4,
 "nbformat_minor": 5
}
